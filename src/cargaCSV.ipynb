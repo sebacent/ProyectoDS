{
    "cells": [
        {
            "cell_type": "markdown",
            "metadata": {},
            "source": [
                "#### Planteamiento del Problema\n",
                "\n",
                "Se desea predecir la cantidad de puntos que pueda hacer un jugador en un partido, \n",
                "a partir de estadísticas personales (del jugador) y colectivas (del equipo en donde juega). "
            ]
        },
        {
            "cell_type": "markdown",
            "metadata": {},
            "source": [
                "Imports"
            ]
        },
        {
            "cell_type": "code",
            "execution_count": 1,
            "metadata": {},
            "outputs": [],
            "source": [
                "#Se importan todas las dependencias necesarias\n",
                "import pandas as pd\n",
                "import numpy as np\n",
                "import sqlalchemy\n",
                "import psycopg2\n",
                "import csv\n",
                "import os\n",
                "from sqlalchemy import create_engine\n",
                "from dotenv import load_dotenv\n",
                "from nba_api.stats.endpoints import playergamelogs, teamgamelogs, teamgamelog, playerdashboardbylastngames"
            ]
        },
        {
            "cell_type": "markdown",
            "metadata": {},
            "source": [
                "Cargo el DataFrame con los datos de data_raw.csv "
            ]
        },
        {
            "cell_type": "code",
            "execution_count": null,
            "metadata": {},
            "outputs": [],
            "source": [
                "players = pd.read_csv(r'C:\\Users\\sebas\\Documents\\Proyecto_DS\\ProyectoDS\\data\\raw\\data_raw.csv')\n",
                "players.head()\n"
            ]
        },
        {
            "cell_type": "markdown",
            "metadata": {},
            "source": [
                "Removemos las columnas que no se utilizarán en la generación del modelo predictivo."
            ]
        },
        {
            "cell_type": "code",
            "execution_count": null,
            "metadata": {},
            "outputs": [],
            "source": [
                "players.columns"
            ]
        },
        {
            "cell_type": "code",
            "execution_count": null,
            "metadata": {},
            "outputs": [],
            "source": [
                "#Remocion de columnas\n",
                "players = players.drop(['WNBA_FANTASY_PTS', 'GP_RANK', 'W_RANK', 'L_RANK', 'W_PCT_RANK',\n",
                "       'MIN_RANK', 'FGM_RANK', 'FGA_RANK', 'FG_PCT_RANK', 'FG3M_RANK',\n",
                "       'FG3A_RANK', 'FG3_PCT_RANK', 'FTM_RANK', 'FTA_RANK', 'FT_PCT_RANK',\n",
                "       'OREB_RANK', 'DREB_RANK', 'REB_RANK', 'AST_RANK', 'TOV_RANK',\n",
                "       'STL_RANK', 'BLK_RANK', 'BLKA_RANK', 'PF_RANK', 'PFD_RANK', 'PTS_RANK',\n",
                "       'PLUS_MINUS_RANK', 'NBA_FANTASY_PTS_RANK', 'DD2_RANK', 'TD3_RANK',\n",
                "       'WNBA_FANTASY_PTS_RANK','NBA_FANTASY_PTS', 'DD2',\n",
                "       'TD3'], axis = 1)\n",
                "\n",
                "players.head(2)"
            ]
        },
        {
            "cell_type": "markdown",
            "metadata": {},
            "source": [
                "Tomamos el promedio de los últimos 5 partidos para las estadísticas por jugador"
            ]
        },
        {
            "cell_type": "code",
            "execution_count": null,
            "metadata": {},
            "outputs": [],
            "source": [
                "#Ordenar el Dataframe de forma ascendente en base a las columnas descritas.\n",
                "players = players.sort_values(by=['SEASON_YEAR','PLAYER_ID','GAME_DATE'], ascending=[True,True,True])"
            ]
        },
        {
            "cell_type": "code",
            "execution_count": null,
            "metadata": {},
            "outputs": [],
            "source": [
                "#Hacemos reset el indice del dataframe en caso de que lo podamos necesitar en orden\n",
                "players = players.reset_index(drop=True)"
            ]
        },
        {
            "cell_type": "code",
            "execution_count": null,
            "metadata": {},
            "outputs": [],
            "source": [
                "players.shape\n",
                "#contar la cantidad de datos distintos a NaN\n",
                "sum(players.MIN_PROM.isna())"
            ]
        },
        {
            "cell_type": "code",
            "execution_count": null,
            "metadata": {},
            "outputs": [],
            "source": [
                "def calcular_promedio_puntos(dataframe, columna, player_id, game_date, n_partidos):\n",
                "    \"\"\"\n",
                "    Calcula el promedio de puntos de un jugador en los N partidos anteriores, excluyendo el partido actual.\n",
                "    Parámetros:\n",
                "      dataframe: El dataframe con los datos de los jugadores.\n",
                "      game_date: El GAME_ID del partido actual.\n",
                "      player_id: El PLAYER_ID del jugador para el que se quiere calcular el promedio.\n",
                "      n_partidos: El número de partidos anteriores a considerar.\n",
                "      columna: La columna que contiene los puntos del jugador.\n",
                "    Devuelve:\n",
                "      El promedio de puntos del jugador en los N partidos anteriores.\n",
                "    \"\"\"\n",
                "    # Filtrar el dataframe para los partidos anteriores al actual y del jugador específico\n",
                "    partidos_anteriores_jugador = dataframe[(dataframe['GAME_DATE'] < game_date) & (dataframe['PLAYER_ID'] == player_id)]\n",
                "    \n",
                "    # Si no hay suficientes partidos anteriores para el jugador, tomar los partidos disponibles\n",
                "    n_partidos_disponibles = min(len(partidos_anteriores_jugador), n_partidos)\n",
                "    \n",
                "    # Si hay al menos un partido anterior, calcular el promedio de puntos\n",
                "    if n_partidos_disponibles > 0:\n",
                "        promedio_puntos = partidos_anteriores_jugador.tail(n_partidos_disponibles)[columna].mean()\n",
                "    else:\n",
                "        # Si no hay partidos anteriores disponibles, tomar el valor del partido actual\n",
                "        promedio_puntos = dataframe[(dataframe['GAME_DATE'] == game_date) & (dataframe['PLAYER_ID'] == player_id)][columna].iloc[0]\n",
                "    \n",
                "    return promedio_puntos\n",
                "\n",
                "#Lista de columnas para las cuales se obtendrán las estadísticas promediadas\n",
                "lista_columnas_para_promedio = ['MIN', 'FGM', 'FGA', 'FG_PCT', 'FG3M', 'FG3A', 'FG3_PCT', 'FTM',\n",
                "       'FTA', 'FT_PCT', 'OREB', 'DREB', 'REB', 'AST', 'TOV', 'STL', 'BLK',\n",
                "       'BLKA', 'PF', 'PFD', 'PTS', 'PLUS_MINUS', 'PTSRTeam',\n",
                "       'PTSTeam', 'W_PCTTeam']\n",
                "\n",
                "#Tomamos una listas de los jugadores y de las fechas de los partidos.\n",
                "jugadores_ID = players.PLAYER_ID.unique().tolist()\n",
                "dates = players.GAME_DATE.unique().tolist()\n",
                "\n",
                "\n",
                "n_partidos = 5 #numero de partidos para sacar el promedio\n",
                "\n",
                "#Se llama a la funcion para obtener las estadisticas promediadas de todos los jugadores\n",
                "for columna in lista_columnas_para_promedio:\n",
                "  for jugador in jugadores_ID:\n",
                "      for date in dates:\n",
                "        \n",
                "        indice = players.index[(players['GAME_DATE']==date) & (players['PLAYER_ID']==jugador)]\n",
                "\n",
                "        if indice.empty:\n",
                "                # Si no se encontró un índice válido, pasar a la siguiente fecha\n",
                "          continue\n",
                "\n",
                "        promedio = calcular_promedio_puntos(players, columna, jugador, date, n_partidos)\n",
                "\n",
                "        if promedio is None:\n",
                "                # Pasar a la siguiente fecha\n",
                "          continue\n",
                "              \n",
                "        players.loc[indice,columna+'_'+'PROM'] = promedio"
            ]
        },
        {
            "cell_type": "code",
            "execution_count": null,
            "metadata": {},
            "outputs": [],
            "source": [
                "players.head()"
            ]
        },
        {
            "cell_type": "code",
            "execution_count": null,
            "metadata": {},
            "outputs": [],
            "source": [
                "players.to_csv(r'C:\\Users\\sebas\\Documents\\Proyecto_DS\\ProyectoDS\\data\\raw\\data_complete_raw.csv', index=False)\n"
            ]
        },
        {
            "cell_type": "markdown",
            "metadata": {},
            "source": [
                "Cargo el nuevo CSV completo."
            ]
        },
        {
            "cell_type": "code",
            "execution_count": 2,
            "metadata": {},
            "outputs": [
                {
                    "data": {
                        "text/html": [
                            "<div>\n",
                            "<style scoped>\n",
                            "    .dataframe tbody tr th:only-of-type {\n",
                            "        vertical-align: middle;\n",
                            "    }\n",
                            "\n",
                            "    .dataframe tbody tr th {\n",
                            "        vertical-align: top;\n",
                            "    }\n",
                            "\n",
                            "    .dataframe thead th {\n",
                            "        text-align: right;\n",
                            "    }\n",
                            "</style>\n",
                            "<table border=\"1\" class=\"dataframe\">\n",
                            "  <thead>\n",
                            "    <tr style=\"text-align: right;\">\n",
                            "      <th></th>\n",
                            "      <th>SEASON_YEAR</th>\n",
                            "      <th>PLAYER_ID</th>\n",
                            "      <th>PLAYER_NAME</th>\n",
                            "      <th>NICKNAME</th>\n",
                            "      <th>TEAM_ID</th>\n",
                            "      <th>TEAM_ABBREVIATION</th>\n",
                            "      <th>TEAM_NAME</th>\n",
                            "      <th>GAME_ID</th>\n",
                            "      <th>GAME_DATE</th>\n",
                            "      <th>MATCHUP</th>\n",
                            "      <th>...</th>\n",
                            "      <th>STL_PROM</th>\n",
                            "      <th>BLK_PROM</th>\n",
                            "      <th>BLKA_PROM</th>\n",
                            "      <th>PF_PROM</th>\n",
                            "      <th>PFD_PROM</th>\n",
                            "      <th>PTS_PROM</th>\n",
                            "      <th>PLUS_MINUS_PROM</th>\n",
                            "      <th>PTSRTeam_PROM</th>\n",
                            "      <th>PTSTeam_PROM</th>\n",
                            "      <th>W_PCTTeam_PROM</th>\n",
                            "    </tr>\n",
                            "  </thead>\n",
                            "  <tbody>\n",
                            "    <tr>\n",
                            "      <th>0</th>\n",
                            "      <td>2020-21</td>\n",
                            "      <td>2544</td>\n",
                            "      <td>LeBron James</td>\n",
                            "      <td>LeBron</td>\n",
                            "      <td>1610612747</td>\n",
                            "      <td>LAL</td>\n",
                            "      <td>Los Angeles Lakers</td>\n",
                            "      <td>22000002</td>\n",
                            "      <td>2020-12-22T00:00:00</td>\n",
                            "      <td>LAL vs. LAC</td>\n",
                            "      <td>...</td>\n",
                            "      <td>0.000000</td>\n",
                            "      <td>0.00</td>\n",
                            "      <td>1.000000</td>\n",
                            "      <td>2.00</td>\n",
                            "      <td>6.000000</td>\n",
                            "      <td>22.000000</td>\n",
                            "      <td>2.000000</td>\n",
                            "      <td>116.000000</td>\n",
                            "      <td>109.000000</td>\n",
                            "      <td>0.00000</td>\n",
                            "    </tr>\n",
                            "    <tr>\n",
                            "      <th>1</th>\n",
                            "      <td>2020-21</td>\n",
                            "      <td>2544</td>\n",
                            "      <td>LeBron James</td>\n",
                            "      <td>LeBron</td>\n",
                            "      <td>1610612747</td>\n",
                            "      <td>LAL</td>\n",
                            "      <td>Los Angeles Lakers</td>\n",
                            "      <td>22000008</td>\n",
                            "      <td>2020-12-25T00:00:00</td>\n",
                            "      <td>LAL vs. DAL</td>\n",
                            "      <td>...</td>\n",
                            "      <td>0.000000</td>\n",
                            "      <td>0.00</td>\n",
                            "      <td>1.000000</td>\n",
                            "      <td>2.00</td>\n",
                            "      <td>6.000000</td>\n",
                            "      <td>22.000000</td>\n",
                            "      <td>2.000000</td>\n",
                            "      <td>116.000000</td>\n",
                            "      <td>109.000000</td>\n",
                            "      <td>0.00000</td>\n",
                            "    </tr>\n",
                            "    <tr>\n",
                            "      <th>2</th>\n",
                            "      <td>2020-21</td>\n",
                            "      <td>2544</td>\n",
                            "      <td>LeBron James</td>\n",
                            "      <td>LeBron</td>\n",
                            "      <td>1610612747</td>\n",
                            "      <td>LAL</td>\n",
                            "      <td>Los Angeles Lakers</td>\n",
                            "      <td>22000040</td>\n",
                            "      <td>2020-12-27T00:00:00</td>\n",
                            "      <td>LAL vs. MIN</td>\n",
                            "      <td>...</td>\n",
                            "      <td>0.500000</td>\n",
                            "      <td>0.00</td>\n",
                            "      <td>1.000000</td>\n",
                            "      <td>1.00</td>\n",
                            "      <td>5.000000</td>\n",
                            "      <td>22.000000</td>\n",
                            "      <td>9.000000</td>\n",
                            "      <td>115.500000</td>\n",
                            "      <td>123.500000</td>\n",
                            "      <td>0.25000</td>\n",
                            "    </tr>\n",
                            "    <tr>\n",
                            "      <th>3</th>\n",
                            "      <td>2020-21</td>\n",
                            "      <td>2544</td>\n",
                            "      <td>LeBron James</td>\n",
                            "      <td>LeBron</td>\n",
                            "      <td>1610612747</td>\n",
                            "      <td>LAL</td>\n",
                            "      <td>Los Angeles Lakers</td>\n",
                            "      <td>22000045</td>\n",
                            "      <td>2020-12-28T00:00:00</td>\n",
                            "      <td>LAL vs. POR</td>\n",
                            "      <td>...</td>\n",
                            "      <td>0.666667</td>\n",
                            "      <td>0.00</td>\n",
                            "      <td>0.666667</td>\n",
                            "      <td>1.00</td>\n",
                            "      <td>5.333333</td>\n",
                            "      <td>20.666667</td>\n",
                            "      <td>11.333333</td>\n",
                            "      <td>107.333333</td>\n",
                            "      <td>124.666667</td>\n",
                            "      <td>0.38900</td>\n",
                            "    </tr>\n",
                            "    <tr>\n",
                            "      <th>4</th>\n",
                            "      <td>2020-21</td>\n",
                            "      <td>2544</td>\n",
                            "      <td>LeBron James</td>\n",
                            "      <td>LeBron</td>\n",
                            "      <td>1610612747</td>\n",
                            "      <td>LAL</td>\n",
                            "      <td>Los Angeles Lakers</td>\n",
                            "      <td>22000060</td>\n",
                            "      <td>2020-12-30T00:00:00</td>\n",
                            "      <td>LAL @ SAS</td>\n",
                            "      <td>...</td>\n",
                            "      <td>1.000000</td>\n",
                            "      <td>0.25</td>\n",
                            "      <td>1.000000</td>\n",
                            "      <td>1.25</td>\n",
                            "      <td>4.750000</td>\n",
                            "      <td>22.750000</td>\n",
                            "      <td>8.500000</td>\n",
                            "      <td>109.250000</td>\n",
                            "      <td>120.250000</td>\n",
                            "      <td>0.41675</td>\n",
                            "    </tr>\n",
                            "  </tbody>\n",
                            "</table>\n",
                            "<p>5 rows × 63 columns</p>\n",
                            "</div>"
                        ],
                        "text/plain": [
                            "  SEASON_YEAR  PLAYER_ID   PLAYER_NAME NICKNAME     TEAM_ID TEAM_ABBREVIATION  \\\n",
                            "0     2020-21       2544  LeBron James   LeBron  1610612747               LAL   \n",
                            "1     2020-21       2544  LeBron James   LeBron  1610612747               LAL   \n",
                            "2     2020-21       2544  LeBron James   LeBron  1610612747               LAL   \n",
                            "3     2020-21       2544  LeBron James   LeBron  1610612747               LAL   \n",
                            "4     2020-21       2544  LeBron James   LeBron  1610612747               LAL   \n",
                            "\n",
                            "            TEAM_NAME   GAME_ID            GAME_DATE      MATCHUP  ...  \\\n",
                            "0  Los Angeles Lakers  22000002  2020-12-22T00:00:00  LAL vs. LAC  ...   \n",
                            "1  Los Angeles Lakers  22000008  2020-12-25T00:00:00  LAL vs. DAL  ...   \n",
                            "2  Los Angeles Lakers  22000040  2020-12-27T00:00:00  LAL vs. MIN  ...   \n",
                            "3  Los Angeles Lakers  22000045  2020-12-28T00:00:00  LAL vs. POR  ...   \n",
                            "4  Los Angeles Lakers  22000060  2020-12-30T00:00:00    LAL @ SAS  ...   \n",
                            "\n",
                            "   STL_PROM  BLK_PROM  BLKA_PROM  PF_PROM  PFD_PROM   PTS_PROM  \\\n",
                            "0  0.000000      0.00   1.000000     2.00  6.000000  22.000000   \n",
                            "1  0.000000      0.00   1.000000     2.00  6.000000  22.000000   \n",
                            "2  0.500000      0.00   1.000000     1.00  5.000000  22.000000   \n",
                            "3  0.666667      0.00   0.666667     1.00  5.333333  20.666667   \n",
                            "4  1.000000      0.25   1.000000     1.25  4.750000  22.750000   \n",
                            "\n",
                            "   PLUS_MINUS_PROM  PTSRTeam_PROM  PTSTeam_PROM  W_PCTTeam_PROM  \n",
                            "0         2.000000     116.000000    109.000000         0.00000  \n",
                            "1         2.000000     116.000000    109.000000         0.00000  \n",
                            "2         9.000000     115.500000    123.500000         0.25000  \n",
                            "3        11.333333     107.333333    124.666667         0.38900  \n",
                            "4         8.500000     109.250000    120.250000         0.41675  \n",
                            "\n",
                            "[5 rows x 63 columns]"
                        ]
                    },
                    "execution_count": 2,
                    "metadata": {},
                    "output_type": "execute_result"
                }
            ],
            "source": [
                "players = pd.read_csv(r'C:\\Users\\sebas\\Documents\\Proyecto_DS\\ProyectoDS\\data\\raw\\data_complete_raw.csv')\n",
                "players.head()"
            ]
        }
    ],
    "metadata": {
        "kernelspec": {
            "display_name": "Python 3.8.13 64-bit ('3.8.13')",
            "language": "python",
            "name": "python3"
        },
        "language_info": {
            "codemirror_mode": {
                "name": "ipython",
                "version": 3
            },
            "file_extension": ".py",
            "mimetype": "text/x-python",
            "name": "python",
            "nbconvert_exporter": "python",
            "pygments_lexer": "ipython3",
            "version": "3.11.8"
        },
        "orig_nbformat": 4,
        "vscode": {
            "interpreter": {
                "hash": "110cc1dee26208153f2972f08a2ad52b6a56238dc66d48e87fb757ef2996db56"
            }
        }
    },
    "nbformat": 4,
    "nbformat_minor": 2
}
